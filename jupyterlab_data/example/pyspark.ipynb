{
 "cells": [
  {
   "cell_type": "code",
   "execution_count": 1,
   "id": "5004d378-f8ba-4277-ae9b-2613ca7cff9b",
   "metadata": {},
   "outputs": [
    {
     "name": "stderr",
     "output_type": "stream",
     "text": [
      "Setting default log level to \"WARN\".\n",
      "To adjust logging level use sc.setLogLevel(newLevel). For SparkR, use setLogLevel(newLevel).\n",
      "24/08/10 07:37:35 WARN NativeCodeLoader: Unable to load native-hadoop library for your platform... using builtin-java classes where applicable\n"
     ]
    },
    {
     "name": "stdout",
     "output_type": "stream",
     "text": [
      "Data yang dibaca:\n",
      "+---+-------+---+------+\n",
      "| id|   name|age|status|\n",
      "+---+-------+---+------+\n",
      "|  1|  Alice| 30| false|\n",
      "|  2|    Bob| 25| false|\n",
      "|  3|Charlie| 35|  true|\n",
      "+---+-------+---+------+\n",
      "\n",
      "Data setelah transformasi:\n",
      "+---+-------+---+------+\n",
      "| id|   name|age|status|\n",
      "+---+-------+---+------+\n",
      "|  1|  Alice| 30| false|\n",
      "|  2|    Bob| 25| false|\n",
      "|  3|Charlie| 35|  true|\n",
      "+---+-------+---+------+\n",
      "\n"
     ]
    }
   ],
   "source": [
    "from pyspark.sql import SparkSession\n",
    "from pyspark.sql.functions import col\n",
    "\n",
    "# Membuat sesi Spark\n",
    "spark = SparkSession.builder \\\n",
    "    .appName(\"Contoh PySpark\") \\\n",
    "    .getOrCreate()\n",
    "\n",
    "# Membaca data dari file CSV\n",
    "df = spark.read.csv(\"./pyspark_data.csv\", header=True, inferSchema=True)\n",
    "\n",
    "# Menampilkan data yang dibaca\n",
    "print(\"Data yang dibaca:\")\n",
    "df.show()\n",
    "\n",
    "# Melakukan transformasi: menambahkan kolom baru yang berisi \"Senior\" jika umur > 30\n",
    "df_transformed = df.withColumn(\n",
    "    \"status\",\n",
    "    col(\"age\") > 30\n",
    ").withColumn(\n",
    "    \"status\",\n",
    "    col(\"status\").cast(\"string\")\n",
    ")\n",
    "\n",
    "# Menampilkan data setelah transformasi\n",
    "print(\"Data setelah transformasi:\")\n",
    "df_transformed.show()\n",
    "\n",
    "# Menulis hasil ke file CSV baru\n",
    "df_transformed.write.csv(\"data_transformed.csv\", header=True)\n",
    "\n",
    "# Menutup sesi Spark\n",
    "spark.stop()\n"
   ]
  },
  {
   "cell_type": "code",
   "execution_count": null,
   "id": "1352f7de-bc63-4d4f-91eb-63a2230c23db",
   "metadata": {},
   "outputs": [],
   "source": []
  }
 ],
 "metadata": {
  "kernelspec": {
   "display_name": "Python [conda env:inda-py3.11]",
   "language": "python",
   "name": "conda-env-inda-py3.11-py"
  },
  "language_info": {
   "codemirror_mode": {
    "name": "ipython",
    "version": 3
   },
   "file_extension": ".py",
   "mimetype": "text/x-python",
   "name": "python",
   "nbconvert_exporter": "python",
   "pygments_lexer": "ipython3",
   "version": "3.11.9"
  }
 },
 "nbformat": 4,
 "nbformat_minor": 5
}
